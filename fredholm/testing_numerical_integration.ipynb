{
 "cells": [
  {
   "cell_type": "code",
   "execution_count": 2,
   "id": "initial_id",
   "metadata": {
    "collapsed": true,
    "ExecuteTime": {
     "end_time": "2024-04-19T16:29:53.160752Z",
     "start_time": "2024-04-19T16:29:49.753821600Z"
    }
   },
   "outputs": [],
   "source": [
    "import numpy as np\n",
    "import matplotlib.pyplot as plt\n",
    "from scipy.stats import truncnorm\n",
    "from scipy.special import erf\n",
    "from scipy import integrate\n",
    "import pickle\n",
    "\n",
    "from fredholm_datagen_utils import b1, b2, b_bar_v\n",
    "from fredholm_utils import *\n",
    "\n",
    "def l_phi(eta):\n",
    "    return 1/(2*np.pi)*np.exp(-1/2*eta**2)\n",
    "\n",
    "def u_phi(x):\n",
    "    return 1/2*(1+erf(x/np.sqrt(2)))"
   ]
  },
  {
   "cell_type": "code",
   "execution_count": 7,
   "outputs": [],
   "source": [
    "import sys\n",
    "sys.path.append('fredholm_datagen_utils.py')\n",
    "\n",
    "with open('fredholm_results/lasso_b1.pkl', 'rb') as file:\n",
    "    lasso_dict = pickle.load(file)\n",
    "\n",
    "init_data = lasso_dict['init_data']"
   ],
   "metadata": {
    "collapsed": false,
    "ExecuteTime": {
     "end_time": "2024-04-19T19:56:56.925055700Z",
     "start_time": "2024-04-19T19:56:56.784709Z"
    }
   },
   "id": "4c8ab24f6ec2c064"
  },
  {
   "cell_type": "code",
   "execution_count": 8,
   "outputs": [
    {
     "data": {
      "text/plain": "{'pi': 'truncnorm',\n 'scale': 3.1622776601683795,\n 'loc': 1,\n 'a_trunc': -100,\n 'b_trunc': 100,\n 'beta_distribution_a': 3,\n 'beta_distribution_b': 2,\n 'diffusion': 1,\n 't_delta': 0.05,\n 't_end': 100.0,\n 'start_val': 0,\n 'gibbs_iters': 25,\n 'chunk_size': 250,\n 'integral_n': 5000,\n 'y_domain': (-50.0, 50.0),\n 'results_filepath': 'fredholm/fredholm_results/lasso_b1.pkl',\n 'local_gig_a': 2.0,\n 'local_gig_b': 0.0,\n 'local_gig_p': 1.0,\n 'global_gig_a': 0.0,\n 'global_gig_b': 0.0,\n 'global_gig_p': 0.0,\n 'kernel_name': 'gauss',\n 'timer': True}"
     },
     "execution_count": 8,
     "metadata": {},
     "output_type": "execute_result"
    }
   ],
   "source": [
    "lasso_dict['meta_data']"
   ],
   "metadata": {
    "collapsed": false,
    "ExecuteTime": {
     "end_time": "2024-04-19T19:56:58.769671800Z",
     "start_time": "2024-04-19T19:56:58.705271Z"
    }
   },
   "id": "e00f3479a166cdde"
  },
  {
   "cell_type": "code",
   "execution_count": null,
   "outputs": [],
   "source": [],
   "metadata": {
    "collapsed": false,
    "ExecuteTime": {
     "start_time": "2024-04-19T16:29:53.308722200Z"
    }
   },
   "id": "b77af81c24f87389"
  },
  {
   "cell_type": "markdown",
   "source": [
    "# Simple initial example: b_bar is (x-x^3)*E(y)"
   ],
   "metadata": {
    "collapsed": false
   },
   "id": "277446e37c7bfa16"
  },
  {
   "cell_type": "code",
   "execution_count": 10,
   "outputs": [],
   "source": [
    "# using settings from the previously-generated data\n",
    "scale = lasso_dict['meta_data']['scale'] \n",
    "# scale =  np.sqrt(10)\n",
    "loc = lasso_dict['meta_data']['loc']\n",
    "# loc = 1\n",
    "a_trunc, b_trunc = lasso_dict['meta_data']['a_trunc'], lasso_dict['meta_data']['b_trunc'] \n",
    "# a_trunc, b_trunc = -100,100\n",
    "\n",
    "a_trunc_real, b_trunc_real = (a_trunc - loc) / scale, (b_trunc - loc) / scale\n",
    "trunc = truncnorm(a_trunc_real, b_trunc_real, loc=loc, scale=scale)"
   ],
   "metadata": {
    "collapsed": false,
    "ExecuteTime": {
     "end_time": "2024-04-19T19:57:19.066174500Z",
     "start_time": "2024-04-19T19:57:19.024584700Z"
    }
   },
   "id": "e2939ab863f052e5"
  },
  {
   "cell_type": "code",
   "execution_count": 11,
   "outputs": [
    {
     "name": "stdout",
     "output_type": "stream",
     "text": [
      "1.0\n"
     ]
    }
   ],
   "source": [
    "range_linspace= [-5,5]\n",
    "x_vals = np.linspace(range_linspace[0], range_linspace[1], 2000) # len(init_data)-1)\n",
    "\n",
    "pi = trunc\n",
    "b = b1\n",
    "x = x_vals\n",
    "\n",
    "Z = u_phi(b_trunc_real) - u_phi(a_trunc_real)\n",
    "E_y = loc + ( l_phi(a_trunc_real) - l_phi(b_trunc_real) ) / Z * scale\n",
    "print(E_y)\n",
    "\n",
    "np.random.seed(0)\n",
    "b_bar_est_5k = b_bar_v(x=x, pi=pi, b=b, integral_n=5000)\n",
    "b_bar_est_1k = b_bar_v(x=x, pi=pi, b=b, integral_n=1000)\n",
    "b_bar_est_25k = b_bar_v(x=x, pi=pi, b=b, integral_n=25000)\n",
    "# calculate this integral manually by multiplying b by the expectation of y\n",
    "b_bar_manual = (x - x**3)*E_y"
   ],
   "metadata": {
    "collapsed": false,
    "ExecuteTime": {
     "end_time": "2024-04-19T19:57:21.224929300Z",
     "start_time": "2024-04-19T19:57:19.916788900Z"
    }
   },
   "id": "24913559f569fbe"
  },
  {
   "cell_type": "code",
   "execution_count": null,
   "outputs": [],
   "source": [
    "b_bar_est_scipy = []\n",
    "# y_domain = lasso_dict['meta_data']['y_domain']\n",
    "y_domain = -50,50\n",
    "\n",
    "for i, x_single in enumerate(x_vals):\n",
    "    if i%10 ==0: print(f\"{i}/{len(x_vals)}\")\n",
    "    b_bar_est_scipy.append(integrate.quad(lambda y: b1_v(x=x_single, y=y)*trunc.pdf(y), y_domain[0], y_domain[1]))\n",
    " \n",
    "b_bar_est_scipy = np.asarray(b_bar_est_scipy)\n",
    "# TODO: implement calculation of MSE between the manual vs estimation methods, to compare performance"
   ],
   "metadata": {
    "collapsed": false,
    "ExecuteTime": {
     "end_time": "2024-04-19T16:29:53.398284700Z",
     "start_time": "2024-04-19T16:29:53.317722700Z"
    }
   },
   "id": "afc6b01e870753c6"
  },
  {
   "cell_type": "code",
   "execution_count": null,
   "outputs": [],
   "source": [
    "b_bar_est_scipy[:,0]"
   ],
   "metadata": {
    "collapsed": false,
    "ExecuteTime": {
     "start_time": "2024-04-19T16:29:53.326723400Z"
    }
   },
   "id": "8ac67c42709882cd"
  },
  {
   "cell_type": "code",
   "execution_count": null,
   "outputs": [],
   "source": [],
   "metadata": {
    "collapsed": false,
    "ExecuteTime": {
     "start_time": "2024-04-19T16:29:53.331724300Z"
    }
   },
   "id": "fe9e243676e5752b"
  },
  {
   "cell_type": "code",
   "execution_count": null,
   "outputs": [],
   "source": [
    "plt.scatter(x_vals, b_bar_manual, label='x-x^3 * E(y)', s=0.8, alpha=0.5)\n",
    "plt.scatter(x_vals, x_vals-x_vals**3, label='x-x^3', s=0.8, alpha=0.5)\n",
    "plt.xlabel('x')\n",
    "plt.legend()\n",
    "plt.show()\n",
    "\n",
    "plt.scatter(x_vals, b_bar_est_1k, label='1k integration estimate', s=0.8, alpha=0.5)\n",
    "plt.scatter(x_vals, b_bar_est_5k, label='5k integration estimate', s=0.8, alpha=0.5)\n",
    "plt.scatter(x_vals, b_bar_est_25k, label='25k integration estimate', s=0.8, alpha=0.5)\n",
    "plt.scatter(x_vals, b_bar_manual, label='x-x^3 * E(y)', s=0.8, alpha=0.5)\n",
    "plt.scatter(x_vals, x_vals-x_vals**3, label='x-x^3', s=0.8, alpha=0.5)\n",
    "plt.scatter(x_vals, b_bar_est_scipy[:,0], label='scipy integration est', s=0.8, alpha=0.5)\n",
    "plt.xlabel('x')\n",
    "plt.ylim(-150,150) # getting rid of this line shows the scipy-est vals, which are very random\n",
    "\n",
    "plt.legend()\n",
    "plt.show()\n",
    "\n",
    "# same plot but with no y limit\n",
    "plt.scatter(x_vals, b_bar_est_1k, label='1k integration estimate', s=0.8, alpha=0.5)\n",
    "plt.scatter(x_vals, b_bar_est_5k, label='5k integration estimate', s=0.8, alpha=0.5)\n",
    "plt.scatter(x_vals, b_bar_est_25k, label='25k integration estimate', s=0.8, alpha=0.5)\n",
    "plt.scatter(x_vals, b_bar_manual, label='x-x^3 * E(y)', s=0.8, alpha=0.5)\n",
    "plt.scatter(x_vals, x_vals-x_vals**3, label='x-x^3', s=0.8, alpha=0.5)\n",
    "plt.scatter(x_vals, b_bar_est_scipy[:,0], label='scipy integration est', s=0.8, alpha=0.5)\n",
    "plt.xlabel('x')\n",
    "\n",
    "plt.legend()\n",
    "plt.show()"
   ],
   "metadata": {
    "collapsed": false,
    "ExecuteTime": {
     "start_time": "2024-04-19T16:29:53.337254800Z"
    }
   },
   "id": "c5b7ad27e34b9031"
  },
  {
   "cell_type": "markdown",
   "source": [
    "## Calculating MSE to see which integration method is more accurate"
   ],
   "metadata": {
    "collapsed": false
   },
   "id": "dee8b8fc3d7c1be8"
  },
  {
   "cell_type": "code",
   "execution_count": null,
   "outputs": [],
   "source": [
    "from sklearn.metrics import mean_squared_error as mse\n",
    "\n",
    "mse_1k = mse(b_bar_manual, b_bar_est_1k)\n",
    "mse_5k = mse(b_bar_manual, b_bar_est_5k)\n",
    "mse_25k = mse(b_bar_manual, b_bar_est_25k)\n",
    "mse_scipy = mse(b_bar_manual, b_bar_est_scipy[:,0])\n",
    "\n",
    "labels = ['1k', '5k', '25k', 'Scipy']\n",
    "mse_values = [mse_1k, mse_5k, mse_25k, mse_scipy]\n",
    "\n",
    "plt.bar(labels, mse_values, color='blue')\n",
    "plt.xlabel('Estimate')\n",
    "plt.ylabel('MSE')\n",
    "plt.title('MSE for Different Estimates')\n",
    "plt.show()"
   ],
   "metadata": {
    "collapsed": false,
    "ExecuteTime": {
     "start_time": "2024-04-19T16:29:53.349254700Z"
    }
   },
   "id": "e835fcc5faca3211"
  },
  {
   "cell_type": "markdown",
   "source": [
    "E(y) = 1 above, since the truncation (at -100,100) is so much larger/farther than the variance (sigma^2 = 10) "
   ],
   "metadata": {
    "collapsed": false
   },
   "id": "c545c8bef6bdb98f"
  },
  {
   "cell_type": "markdown",
   "source": [
    "# Next, calculating the estimated and manual result for b2 = (x+y)-(x+y)^3"
   ],
   "metadata": {
    "collapsed": false
   },
   "id": "2c4f775503be6869"
  },
  {
   "cell_type": "markdown",
   "source": [
    "## Calculating the derivatives of the MGF for truncated normal, and evaluating at our values\n",
    "https://en.wikipedia.org/wiki/Truncated_normal_distribution"
   ],
   "metadata": {
    "collapsed": false
   },
   "id": "b8b6d7a202feb9f"
  },
  {
   "cell_type": "code",
   "execution_count": 15,
   "outputs": [
    {
     "name": "stdout",
     "output_type": "stream",
     "text": [
      "The MGF at t=0 is: 1.00000000000000\n",
      "The first derivative of the MGF at t=0 is: 1.00000000000000\n",
      "The second derivative of the MGF at t=0 is: 11.0000000000000\n",
      "The third derivative of the MGF at t=0 is: 31.0000000000000\n"
     ]
    }
   ],
   "source": [
    "import sympy as sp\n",
    "\n",
    "# Define the symbolic variables\n",
    "t, sigma, beta, alpha, mu = sp.symbols('t sigma beta alpha mu', real=True)\n",
    "\n",
    "# Define the Phi function using SymPy's error function erf\n",
    "def Phi(x):\n",
    "    return 0.5 * (1 + sp.erf(x / sp.sqrt(2)))\n",
    "\n",
    "# Define the MGF for the truncated normal distribution\n",
    "MGF = sp.exp(mu * t + 1/2*sigma**2*t**2) * (Phi(beta - sigma * t ) - Phi(alpha - sigma * t))/(Phi(beta) - Phi(alpha))\n",
    "\n",
    "# Calculate derivatives\n",
    "MGF_derivative = sp.diff(MGF, t)\n",
    "MGF_second_derivative = sp.diff(MGF_derivative, t)\n",
    "MGF_third_derivative = sp.diff(MGF_second_derivative, t)\n",
    "\n",
    "# Define the specific values for sigma, beta, alpha, and mu\n",
    "values = {sigma: scale, beta: b_trunc_real, alpha: a_trunc_real, mu: loc}\n",
    "\n",
    "# Evaluate MGF and its derivatives at t=0 with specific parameter values\n",
    "MGF_at_0 = MGF.subs(values).subs(t, 0).evalf()\n",
    "MGF_derivative_at_0 = MGF_derivative.subs(values).subs(t, 0).evalf()\n",
    "MGF_second_derivative_at_0 = MGF_second_derivative.subs(values).subs(t, 0).evalf()\n",
    "MGF_third_derivative_at_0 = MGF_third_derivative.subs(values).subs(t, 0).evalf()\n",
    "\n",
    "# Print the values\n",
    "print(\"The MGF at t=0 is:\", MGF_at_0)\n",
    "print(\"The first derivative of the MGF at t=0 is:\", MGF_derivative_at_0)\n",
    "print(\"The second derivative of the MGF at t=0 is:\", MGF_second_derivative_at_0)\n",
    "print(\"The third derivative of the MGF at t=0 is:\", MGF_third_derivative_at_0)"
   ],
   "metadata": {
    "collapsed": false,
    "ExecuteTime": {
     "end_time": "2024-04-19T20:02:56.002588300Z",
     "start_time": "2024-04-19T20:02:55.504564100Z"
    }
   },
   "id": "bcf6d45823504398"
  },
  {
   "cell_type": "code",
   "execution_count": 14,
   "outputs": [],
   "source": [
    "# Setting these values based on the above\n",
    "E_y2 = 11\n",
    "E_y3 = 31"
   ],
   "metadata": {
    "collapsed": false,
    "ExecuteTime": {
     "end_time": "2024-04-17T13:39:13.465123500Z",
     "start_time": "2024-04-17T13:39:13.441038500Z"
    }
   },
   "id": "5f0c1ad1da9e261d"
  },
  {
   "cell_type": "code",
   "execution_count": 18,
   "outputs": [
    {
     "name": "stdout",
     "output_type": "stream",
     "text": [
      "0/2000\n",
      "10/2000\n",
      "20/2000\n",
      "30/2000\n",
      "40/2000\n",
      "50/2000\n",
      "60/2000\n",
      "70/2000\n",
      "80/2000\n",
      "90/2000\n",
      "100/2000\n",
      "110/2000\n",
      "120/2000\n",
      "130/2000\n",
      "140/2000\n",
      "150/2000\n",
      "160/2000\n",
      "170/2000\n",
      "180/2000\n",
      "190/2000\n",
      "200/2000\n",
      "210/2000\n",
      "220/2000\n",
      "230/2000\n",
      "240/2000\n",
      "250/2000\n",
      "260/2000\n",
      "270/2000\n",
      "280/2000\n",
      "290/2000\n",
      "300/2000\n",
      "310/2000\n",
      "320/2000\n",
      "330/2000\n",
      "340/2000\n",
      "350/2000\n",
      "360/2000\n",
      "370/2000\n",
      "380/2000\n",
      "390/2000\n",
      "400/2000\n",
      "410/2000\n",
      "420/2000\n",
      "430/2000\n",
      "440/2000\n",
      "450/2000\n",
      "460/2000\n",
      "470/2000\n",
      "480/2000\n",
      "490/2000\n",
      "500/2000\n",
      "510/2000\n",
      "520/2000\n",
      "530/2000\n",
      "540/2000\n",
      "550/2000\n",
      "560/2000\n",
      "570/2000\n",
      "580/2000\n",
      "590/2000\n",
      "600/2000\n",
      "610/2000\n",
      "620/2000\n",
      "630/2000\n",
      "640/2000\n",
      "650/2000\n",
      "660/2000\n",
      "670/2000\n",
      "680/2000\n",
      "690/2000\n",
      "700/2000\n",
      "710/2000\n",
      "720/2000\n",
      "730/2000\n",
      "740/2000\n",
      "750/2000\n",
      "760/2000\n",
      "770/2000\n",
      "780/2000\n",
      "790/2000\n",
      "800/2000\n",
      "810/2000\n",
      "820/2000\n",
      "830/2000\n",
      "840/2000\n",
      "850/2000\n",
      "860/2000\n",
      "870/2000\n",
      "880/2000\n",
      "890/2000\n",
      "900/2000\n",
      "910/2000\n",
      "920/2000\n",
      "930/2000\n",
      "940/2000\n",
      "950/2000\n",
      "960/2000\n",
      "970/2000\n",
      "980/2000\n",
      "990/2000\n",
      "1000/2000\n",
      "1010/2000\n",
      "1020/2000\n",
      "1030/2000\n",
      "1040/2000\n",
      "1050/2000\n",
      "1060/2000\n",
      "1070/2000\n",
      "1080/2000\n",
      "1090/2000\n",
      "1100/2000\n",
      "1110/2000\n",
      "1120/2000\n",
      "1130/2000\n",
      "1140/2000\n",
      "1150/2000\n",
      "1160/2000\n",
      "1170/2000\n",
      "1180/2000\n",
      "1190/2000\n",
      "1200/2000\n",
      "1210/2000\n",
      "1220/2000\n",
      "1230/2000\n",
      "1240/2000\n",
      "1250/2000\n",
      "1260/2000\n",
      "1270/2000\n",
      "1280/2000\n",
      "1290/2000\n",
      "1300/2000\n",
      "1310/2000\n",
      "1320/2000\n",
      "1330/2000\n",
      "1340/2000\n",
      "1350/2000\n",
      "1360/2000\n",
      "1370/2000\n",
      "1380/2000\n",
      "1390/2000\n",
      "1400/2000\n",
      "1410/2000\n",
      "1420/2000\n",
      "1430/2000\n",
      "1440/2000\n",
      "1450/2000\n",
      "1460/2000\n",
      "1470/2000\n",
      "1480/2000\n",
      "1490/2000\n",
      "1500/2000\n",
      "1510/2000\n",
      "1520/2000\n",
      "1530/2000\n",
      "1540/2000\n",
      "1550/2000\n",
      "1560/2000\n",
      "1570/2000\n",
      "1580/2000\n",
      "1590/2000\n",
      "1600/2000\n",
      "1610/2000\n",
      "1620/2000\n",
      "1630/2000\n",
      "1640/2000\n",
      "1650/2000\n",
      "1660/2000\n",
      "1670/2000\n",
      "1680/2000\n",
      "1690/2000\n",
      "1700/2000\n",
      "1710/2000\n",
      "1720/2000\n",
      "1730/2000\n",
      "1740/2000\n",
      "1750/2000\n",
      "1760/2000\n",
      "1770/2000\n",
      "1780/2000\n",
      "1790/2000\n",
      "1800/2000\n",
      "1810/2000\n",
      "1820/2000\n",
      "1830/2000\n",
      "1840/2000\n",
      "1850/2000\n",
      "1860/2000\n",
      "1870/2000\n",
      "1880/2000\n",
      "1890/2000\n",
      "1900/2000\n",
      "1910/2000\n",
      "1920/2000\n",
      "1930/2000\n",
      "1940/2000\n",
      "1950/2000\n",
      "1960/2000\n",
      "1970/2000\n",
      "1980/2000\n",
      "1990/2000\n"
     ]
    }
   ],
   "source": [
    "pi = trunc\n",
    "b = b2_v\n",
    "x = x_vals\n",
    "\n",
    "np.random.seed(0)\n",
    "b_bar2_est_5k = b_bar_v(x=x, pi=pi, b=b, integral_n=5000)\n",
    "b_bar2_est_1k = b_bar_v(x=x, pi=pi, b=b, integral_n=1000)\n",
    "b_bar2_est_25k = b_bar_v(x=x, pi=pi, b=b, integral_n=25000)\n",
    "\n",
    "b_bar2_manual = x + E_y - x**3 - (3*x**2)*E_y - 3*x*E_y2 - E_y3\n",
    "\n",
    "b_bar2_est_scipy = []\n",
    "# y_domain = lasso_dict['meta_data']['y_domain']\n",
    "y_domain = -50,50\n",
    "\n",
    "for i, x_single in enumerate(x_vals):\n",
    "    if i%10 ==0: print(f\"{i}/{len(x_vals)}\")\n",
    "    b_bar2_est_scipy.append(integrate.quad(lambda y: b2_v(x=x_single, y=y)*trunc.pdf(y), y_domain[0], y_domain[1]))\n",
    "\n",
    "b_bar2_est_scipy = np.asarray(b_bar2_est_scipy)"
   ],
   "metadata": {
    "collapsed": false,
    "ExecuteTime": {
     "end_time": "2024-04-17T13:45:30.377547700Z",
     "start_time": "2024-04-17T13:42:35.731097900Z"
    }
   },
   "id": "ad3a769c7df3fe85"
  },
  {
   "cell_type": "code",
   "execution_count": 22,
   "outputs": [
    {
     "data": {
      "text/plain": "(2000, 2)"
     },
     "execution_count": 22,
     "metadata": {},
     "output_type": "execute_result"
    }
   ],
   "source": [
    "b_bar2_est_scipy.shape\n",
    "# x_vals"
   ],
   "metadata": {
    "collapsed": false,
    "ExecuteTime": {
     "end_time": "2024-04-17T13:49:10.906124200Z",
     "start_time": "2024-04-17T13:49:10.824764400Z"
    }
   },
   "id": "5f4a2808e828d8b2"
  },
  {
   "cell_type": "code",
   "execution_count": 23,
   "outputs": [
    {
     "data": {
      "text/plain": "<Figure size 640x480 with 1 Axes>",
      "image/png": "[encoded data removed]"
     },
     "metadata": {},
     "output_type": "display_data"
    }
   ],
   "source": [
    "plt.scatter(x_vals, b_bar2_est_1k, label='1k integration estimate', s=0.8, alpha=0.5)\n",
    "plt.scatter(x_vals, b_bar2_est_5k, label='5k integration estimate', s=0.8, alpha=0.5)\n",
    "plt.scatter(x_vals, b_bar2_est_25k, label='25k integration estimate', s=0.8, alpha=0.5)\n",
    "plt.scatter(x_vals, b_bar2_manual, label='x + E_y - x^3 + (3*x^2)*E_y + 3*x*E_y2 + E_y3', s=0.8, alpha=0.5)\n",
    "plt.scatter(x_vals, b_bar2_est_scipy[:,0], label='Scipy integration estimate', s=0.8, alpha=0.5)\n",
    "# plt.scatter(x_vals, x_vals-x_vals**3, label='x-x^3', s=0.8, alpha=0.5)\n",
    "plt.xlabel('x')\n",
    "\n",
    "plt.legend()\n",
    "plt.show()"
   ],
   "metadata": {
    "collapsed": false,
    "ExecuteTime": {
     "end_time": "2024-04-17T13:49:19.759609500Z",
     "start_time": "2024-04-17T13:49:18.360396800Z"
    }
   },
   "id": "4beb0ca07d710bed"
  },
  {
   "cell_type": "code",
   "execution_count": 26,
   "outputs": [
    {
     "data": {
      "text/plain": "<Figure size 640x480 with 1 Axes>",
      "image/png": "[encoded data removed]"
     },
     "metadata": {},
     "output_type": "display_data"
    }
   ],
   "source": [
    "\n",
    "mse2_1k = mse(b_bar2_manual, b_bar2_est_1k)\n",
    "mse2_5k = mse(b_bar2_manual, b_bar2_est_5k)\n",
    "mse2_25k = mse(b_bar2_manual, b_bar2_est_25k)\n",
    "mse2_scipy = mse(b_bar2_manual, b_bar2_est_scipy[:,0])\n",
    "\n",
    "labels2 = ['1k', '5k', '25k', 'Scipy']\n",
    "mse2_values = [mse2_1k, mse2_5k, mse2_25k, mse2_scipy]\n",
    "\n",
    "plt.bar(labels2, mse2_values, color='blue')\n",
    "plt.xlabel('Estimate')\n",
    "plt.ylabel('MSE')\n",
    "plt.title('MSE for Different Estimates, b2(x)')\n",
    "plt.show()"
   ],
   "metadata": {
    "collapsed": false,
    "ExecuteTime": {
     "end_time": "2024-04-17T13:51:31.284745800Z",
     "start_time": "2024-04-17T13:51:31.020674400Z"
    }
   },
   "id": "88e7b65ea30b4ca9"
  },
  {
   "cell_type": "code",
   "execution_count": null,
   "outputs": [],
   "source": [],
   "metadata": {
    "collapsed": false
   },
   "id": "a929109977bfeeb5"
  }
 ],
 "metadata": {
  "kernelspec": {
   "display_name": "Python 3",
   "language": "python",
   "name": "python3"
  },
  "language_info": {
   "codemirror_mode": {
    "name": "ipython",
    "version": 2
   },
   "file_extension": ".py",
   "mimetype": "text/x-python",
   "name": "python",
   "nbconvert_exporter": "python",
   "pygments_lexer": "ipython2",
   "version": "2.7.6"
  }
 },
 "nbformat": 4,
 "nbformat_minor": 5
}
