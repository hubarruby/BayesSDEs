{
 "cells": [
  {
   "cell_type": "code",
   "execution_count": 1,
   "id": "initial_id",
   "metadata": {
    "collapsed": true,
    "ExecuteTime": {
     "end_time": "2024-05-03T17:10:11.735737800Z",
     "start_time": "2024-05-03T17:10:03.124954800Z"
    }
   },
   "outputs": [],
   "source": [
    "import os\n",
    "\n",
    "from IPython.display import display\n",
    "\n",
    "from fredholm_plotting import *\n",
    "from fredholm_utils import estimated_b_function_matrix"
   ]
  },
  {
   "cell_type": "code",
   "execution_count": null,
   "outputs": [],
   "source": [
    "#todo change range_linspace and data histogram to be a kwarg\n",
    "# idk if issues will arise from non-existing argument kwargs being passed into some things (I think no)\n",
    "def get_data_make_plots(dirpath, range_linspace=(-5,5), data_histogram=True, **kwargs):\n",
    "    \n",
    "    # find all the files in the directory given\n",
    "    filenames = []\n",
    "    for filename in os.listdir(dirpath):\n",
    "        if os.path.isfile(os.path.join(dirpath, filename)):\n",
    "            filenames.append(filename)\n",
    "\n",
    "    dict_list = get_results_dictionaries(filenames, dirpath=dirpath)\n",
    "    meta = metadata_table(dict_list)\n",
    "    display(meta)\n",
    "\n",
    "    compare_betas(dict_list)\n",
    "    init_data = dict_list[0]['init_data']\n",
    "    \n",
    "    if not range_linspace:\n",
    "        # if range_linspace==None , set the plotting range based on the init_data\n",
    "        range_linspace = (min(init_data), max(init_data))\n",
    "        \n",
    "    if data_histogram:\n",
    "        plot_data_histogram(dict_list, **kwargs)\n",
    "    \n",
    "    b_mat = estimated_b_function_matrix(\n",
    "        range_linspace=range_linspace,\n",
    "        init_data=init_data,\n",
    "        kernel_name = meta['kernel_name'],\n",
    "        known_b=dict_list[0]['known_b'],\n",
    "        y_domain=[meta['y_domain'][0], meta['y_domain'][1]],\n",
    "        int_n = 5000\n",
    "    )\n",
    "    plot_bbar_estimates(dict_list, b_mat, range_linspace=range_linspace, **kwargs)"
   ],
   "metadata": {
    "collapsed": false
   },
   "id": "9091139dcaeeb7e1"
  },
  {
   "cell_type": "markdown",
   "source": [
    "# Plots for simulations where Pi = truncnorm(1,10) truncated at -100,100...\n",
    "\n",
    "## Plots for b(x, y) = (x - x^3)y (b1):"
   ],
   "metadata": {
    "collapsed": false,
    "ExecuteTime": {
     "end_time": "2024-05-03T16:03:41.902917500Z",
     "start_time": "2024-05-03T16:03:39.081394Z"
    }
   },
   "id": "83d36234f3b60954"
  },
  {
   "cell_type": "code",
   "execution_count": null,
   "outputs": [],
   "source": [
    "get_data_make_plots('fredholm_results/results0/', bins=30)"
   ],
   "metadata": {
    "collapsed": false
   },
   "id": "68fd6ce80917e163"
  },
  {
   "cell_type": "code",
   "execution_count": null,
   "outputs": [],
   "source": [
    "get_data_make_plots('fredholm_results/results1/', bins=30)"
   ],
   "metadata": {
    "collapsed": false
   },
   "id": "fe407f7f5e0c4f53"
  },
  {
   "cell_type": "code",
   "execution_count": null,
   "outputs": [],
   "source": [
    "get_data_make_plots('fredholm_results/results2/', y_lim=(-50,50), bins=30)"
   ],
   "metadata": {
    "collapsed": false
   },
   "id": "404b2e5b71e1a2d7"
  },
  {
   "cell_type": "code",
   "execution_count": null,
   "outputs": [],
   "source": [
    "get_data_make_plots('fredholm_results/results3/', y_lim=(-50,50), bins=30)"
   ],
   "metadata": {
    "collapsed": false
   },
   "id": "4906bfebd826b2c0"
  },
  {
   "cell_type": "code",
   "execution_count": null,
   "outputs": [],
   "source": [
    "get_data_make_plots('fredholm_results/results4/', bins=30)"
   ],
   "metadata": {
    "collapsed": false
   },
   "id": "a1de0a11d8cf4ab"
  },
  {
   "cell_type": "code",
   "execution_count": null,
   "outputs": [],
   "source": [
    "get_data_make_plots('fredholm_results/results5/', bins=30)"
   ],
   "metadata": {
    "collapsed": false
   },
   "id": "94dabce63da2cca5"
  },
  {
   "cell_type": "code",
   "execution_count": null,
   "outputs": [],
   "source": [
    "get_data_make_plots('fredholm_results/results6/', y_lim=(-50,50), bins=30)"
   ],
   "metadata": {
    "collapsed": false
   },
   "id": "3d2f8d558ddba8f1"
  },
  {
   "cell_type": "code",
   "execution_count": null,
   "outputs": [],
   "source": [
    "get_data_make_plots('fredholm_results/results7/', y_lim=(-50,50), bins=30)"
   ],
   "metadata": {
    "collapsed": false
   },
   "id": "3fccdf20a5adddb5"
  },
  {
   "cell_type": "code",
   "execution_count": null,
   "outputs": [],
   "source": [
    "get_data_make_plots('fredholm_results/results8/', bins=30)"
   ],
   "metadata": {
    "collapsed": false
   },
   "id": "5a3d74afd92e2e2e"
  },
  {
   "cell_type": "code",
   "execution_count": null,
   "outputs": [],
   "source": [
    "get_data_make_plots('fredholm_results/results9/', y_lim=(-50,50), bins=30)"
   ],
   "metadata": {
    "collapsed": false
   },
   "id": "aebcd07c8dad5b9c"
  },
  {
   "cell_type": "code",
   "execution_count": null,
   "outputs": [],
   "source": [
    "get_data_make_plots('fredholm_results/results10/', bins=30)"
   ],
   "metadata": {
    "collapsed": false
   },
   "id": "272d470041ac5ab8"
  },
  {
   "cell_type": "code",
   "execution_count": null,
   "outputs": [],
   "source": [
    "get_data_make_plots('fredholm_results/results11/', y_lim=(-50,50), bins=30)"
   ],
   "metadata": {
    "collapsed": false
   },
   "id": "508ad76e34e63fae"
  },
  {
   "cell_type": "code",
   "execution_count": null,
   "outputs": [],
   "source": [
    "get_data_make_plots('fredholm_results/results12/', bins=30)"
   ],
   "metadata": {
    "collapsed": false
   },
   "id": "8d65a6475f045ed"
  },
  {
   "cell_type": "code",
   "execution_count": null,
   "outputs": [],
   "source": [
    "get_data_make_plots('fredholm_results/results13/', y_lim=(-50,50), bins=30)"
   ],
   "metadata": {
    "collapsed": false
   },
   "id": "6310760704e09b84"
  },
  {
   "cell_type": "code",
   "execution_count": null,
   "outputs": [],
   "source": [
    "get_data_make_plots('fredholm_results/results14/', bins=30)"
   ],
   "metadata": {
    "collapsed": false
   },
   "id": "790564a79001433e"
  },
  {
   "cell_type": "code",
   "execution_count": null,
   "outputs": [],
   "source": [
    "get_data_make_plots('fredholm_results/results15/', y_lim=(-50,50), bins=30)"
   ],
   "metadata": {
    "collapsed": false
   },
   "id": "99c3647a1b21d606"
  },
  {
   "cell_type": "code",
   "execution_count": null,
   "outputs": [],
   "source": [
    "get_data_make_plots('fredholm_results/results16/', bins=30)"
   ],
   "metadata": {
    "collapsed": false
   },
   "id": "9a7e5842950bac46"
  },
  {
   "cell_type": "code",
   "execution_count": null,
   "outputs": [],
   "source": [
    "get_data_make_plots('fredholm_results/results17/', y_lim=(-50,50), bins=30)"
   ],
   "metadata": {
    "collapsed": false
   },
   "id": "2efef2571c6de799"
  },
  {
   "cell_type": "code",
   "execution_count": null,
   "outputs": [],
   "source": [
    "get_data_make_plots('fredholm_results/results18/', bins=30)"
   ],
   "metadata": {
    "collapsed": false
   },
   "id": "4ecef0a7329d4366"
  },
  {
   "cell_type": "code",
   "execution_count": null,
   "outputs": [],
   "source": [
    "get_data_make_plots('fredholm_results/results19/', y_lim=(-50,50), bins=30)"
   ],
   "metadata": {
    "collapsed": false
   },
   "id": "d4c9d94a2c6861b4"
  },
  {
   "cell_type": "code",
   "execution_count": null,
   "outputs": [],
   "source": [
    "get_data_make_plots('fredholm_results/results21/', bins=30)"
   ],
   "metadata": {
    "collapsed": false
   },
   "id": "7c027b3796925a29"
  },
  {
   "cell_type": "code",
   "execution_count": null,
   "outputs": [],
   "source": [
    "get_data_make_plots('fredholm_results/results22/', bins=30)"
   ],
   "metadata": {
    "collapsed": false
   },
   "id": "e4226c3e9d8a095c"
  },
  {
   "cell_type": "code",
   "execution_count": null,
   "outputs": [],
   "source": [
    "get_data_make_plots('fredholm_results/results23/', y_lim=(-50,50), bins=30)"
   ],
   "metadata": {
    "collapsed": false
   },
   "id": "65a554e7b1ec00cf"
  },
  {
   "cell_type": "code",
   "execution_count": null,
   "outputs": [],
   "source": [
    "get_data_make_plots('fredholm_results/results24/', y_lim=(-50,50), bins=30)"
   ],
   "metadata": {
    "collapsed": false
   },
   "id": "b57dd24c32f0895f"
  },
  {
   "cell_type": "code",
   "execution_count": null,
   "outputs": [],
   "source": [
    "get_data_make_plots('fredholm_results/results25/', bins=30)"
   ],
   "metadata": {
    "collapsed": false
   },
   "id": "b467bfb5d0cb7297"
  },
  {
   "cell_type": "code",
   "execution_count": null,
   "outputs": [],
   "source": [
    "get_data_make_plots('fredholm_results/results26/', bins=30)"
   ],
   "metadata": {
    "collapsed": false
   },
   "id": "df6fce2c0884efdf"
  },
  {
   "cell_type": "code",
   "execution_count": null,
   "outputs": [],
   "source": [
    "get_data_make_plots('fredholm_results/results27/', y_lim=(-50,50), bins=30)"
   ],
   "metadata": {
    "collapsed": false
   },
   "id": "3697f5a7abf200ae"
  },
  {
   "cell_type": "code",
   "execution_count": null,
   "outputs": [],
   "source": [
    "get_data_make_plots('fredholm_results/results28/', y_lim=(-50,50), bins=30)"
   ],
   "metadata": {
    "collapsed": false
   },
   "id": "7c1604b9eada7c66"
  }
 ],
 "metadata": {
  "kernelspec": {
   "display_name": "Python 3",
   "language": "python",
   "name": "python3"
  },
  "language_info": {
   "codemirror_mode": {
    "name": "ipython",
    "version": 2
   },
   "file_extension": ".py",
   "mimetype": "text/x-python",
   "name": "python",
   "nbconvert_exporter": "python",
   "pygments_lexer": "ipython2",
   "version": "2.7.6"
  }
 },
 "nbformat": 4,
 "nbformat_minor": 5
}
